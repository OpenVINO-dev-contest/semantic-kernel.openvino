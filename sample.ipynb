{
 "cells": [
  {
   "attachments": {},
   "cell_type": "markdown",
   "id": "68e1c158",
   "metadata": {},
   "source": [
    "# Using Hugging Face With Skills\n",
    "\n",
    "In this notebook, we demonstrate using Hugging Face models for Skills using both SemanticMemory and text completions. \n",
    "\n",
    "SK supports downloading models from the Hugging Face that can perform the following tasks: text-generation, text2text-generation, summarization, and sentence-similarity. You can search for models by task at https://huggingface.co/models."
   ]
  },
  {
   "cell_type": "code",
   "execution_count": 1,
   "id": "c099674b-7a1a-4528-a0c4-d5ed1f47fa0d",
   "metadata": {},
   "outputs": [
    {
     "name": "stdout",
     "output_type": "stream",
     "text": [
      "Requirement already satisfied: semantic-kernel==0.5.1.dev0 in ./openvino_env/lib/python3.10/site-packages (0.5.1.dev0)\n",
      "Requirement already satisfied: aiofiles<24.0.0,>=23.1.0 in ./openvino_env/lib/python3.10/site-packages (from semantic-kernel==0.5.1.dev0) (23.2.1)\n",
      "Requirement already satisfied: aiohttp<4.0,>=3.8 in ./openvino_env/lib/python3.10/site-packages (from semantic-kernel==0.5.1.dev0) (3.9.3)\n",
      "Requirement already satisfied: motor<4.0.0,>=3.3.1 in ./openvino_env/lib/python3.10/site-packages (from semantic-kernel==0.5.1.dev0) (3.3.2)\n",
      "Requirement already satisfied: numpy<2.0.0,>=1.24.2 in ./openvino_env/lib/python3.10/site-packages (from semantic-kernel==0.5.1.dev0) (1.26.4)\n",
      "Requirement already satisfied: openai>=1.0 in ./openvino_env/lib/python3.10/site-packages (from semantic-kernel==0.5.1.dev0) (1.12.0)\n",
      "Requirement already satisfied: openapi_core<0.19.0,>=0.18.0 in ./openvino_env/lib/python3.10/site-packages (from semantic-kernel==0.5.1.dev0) (0.18.2)\n",
      "Requirement already satisfied: prance<24.0.0.0,>=23.6.21.0 in ./openvino_env/lib/python3.10/site-packages (from semantic-kernel==0.5.1.dev0) (23.6.21.0)\n",
      "Requirement already satisfied: pydantic>2 in ./openvino_env/lib/python3.10/site-packages (from semantic-kernel==0.5.1.dev0) (2.6.1)\n",
      "Requirement already satisfied: python-dotenv==1.0.0 in ./openvino_env/lib/python3.10/site-packages (from semantic-kernel==0.5.1.dev0) (1.0.0)\n",
      "Requirement already satisfied: regex<2024.0.0,>=2023.6.3 in ./openvino_env/lib/python3.10/site-packages (from semantic-kernel==0.5.1.dev0) (2023.12.25)\n",
      "Requirement already satisfied: aiosignal>=1.1.2 in ./openvino_env/lib/python3.10/site-packages (from aiohttp<4.0,>=3.8->semantic-kernel==0.5.1.dev0) (1.3.1)\n",
      "Requirement already satisfied: attrs>=17.3.0 in ./openvino_env/lib/python3.10/site-packages (from aiohttp<4.0,>=3.8->semantic-kernel==0.5.1.dev0) (23.2.0)\n",
      "Requirement already satisfied: frozenlist>=1.1.1 in ./openvino_env/lib/python3.10/site-packages (from aiohttp<4.0,>=3.8->semantic-kernel==0.5.1.dev0) (1.4.1)\n",
      "Requirement already satisfied: multidict<7.0,>=4.5 in ./openvino_env/lib/python3.10/site-packages (from aiohttp<4.0,>=3.8->semantic-kernel==0.5.1.dev0) (6.0.5)\n",
      "Requirement already satisfied: yarl<2.0,>=1.0 in ./openvino_env/lib/python3.10/site-packages (from aiohttp<4.0,>=3.8->semantic-kernel==0.5.1.dev0) (1.9.4)\n",
      "Requirement already satisfied: async-timeout<5.0,>=4.0 in ./openvino_env/lib/python3.10/site-packages (from aiohttp<4.0,>=3.8->semantic-kernel==0.5.1.dev0) (4.0.3)\n",
      "Requirement already satisfied: pymongo<5,>=4.5 in ./openvino_env/lib/python3.10/site-packages (from motor<4.0.0,>=3.3.1->semantic-kernel==0.5.1.dev0) (4.6.1)\n",
      "Requirement already satisfied: anyio<5,>=3.5.0 in ./openvino_env/lib/python3.10/site-packages (from openai>=1.0->semantic-kernel==0.5.1.dev0) (4.2.0)\n",
      "Requirement already satisfied: distro<2,>=1.7.0 in ./openvino_env/lib/python3.10/site-packages (from openai>=1.0->semantic-kernel==0.5.1.dev0) (1.9.0)\n",
      "Requirement already satisfied: httpx<1,>=0.23.0 in ./openvino_env/lib/python3.10/site-packages (from openai>=1.0->semantic-kernel==0.5.1.dev0) (0.26.0)\n",
      "Requirement already satisfied: sniffio in ./openvino_env/lib/python3.10/site-packages (from openai>=1.0->semantic-kernel==0.5.1.dev0) (1.3.0)\n",
      "Requirement already satisfied: tqdm>4 in ./openvino_env/lib/python3.10/site-packages (from openai>=1.0->semantic-kernel==0.5.1.dev0) (4.66.2)\n",
      "Requirement already satisfied: typing-extensions<5,>=4.7 in ./openvino_env/lib/python3.10/site-packages (from openai>=1.0->semantic-kernel==0.5.1.dev0) (4.9.0)\n",
      "Requirement already satisfied: asgiref<4.0.0,>=3.6.0 in ./openvino_env/lib/python3.10/site-packages (from openapi_core<0.19.0,>=0.18.0->semantic-kernel==0.5.1.dev0) (3.7.2)\n",
      "Requirement already satisfied: isodate in ./openvino_env/lib/python3.10/site-packages (from openapi_core<0.19.0,>=0.18.0->semantic-kernel==0.5.1.dev0) (0.6.1)\n",
      "Requirement already satisfied: jsonschema<5.0.0,>=4.18.0 in ./openvino_env/lib/python3.10/site-packages (from openapi_core<0.19.0,>=0.18.0->semantic-kernel==0.5.1.dev0) (4.21.1)\n",
      "Requirement already satisfied: jsonschema-spec<0.3.0,>=0.2.3 in ./openvino_env/lib/python3.10/site-packages (from openapi_core<0.19.0,>=0.18.0->semantic-kernel==0.5.1.dev0) (0.2.4)\n",
      "Requirement already satisfied: more-itertools in ./openvino_env/lib/python3.10/site-packages (from openapi_core<0.19.0,>=0.18.0->semantic-kernel==0.5.1.dev0) (10.2.0)\n",
      "Requirement already satisfied: openapi-schema-validator<0.7.0,>=0.6.0 in ./openvino_env/lib/python3.10/site-packages (from openapi_core<0.19.0,>=0.18.0->semantic-kernel==0.5.1.dev0) (0.6.2)\n",
      "Requirement already satisfied: openapi-spec-validator<0.8.0,>=0.7.1 in ./openvino_env/lib/python3.10/site-packages (from openapi_core<0.19.0,>=0.18.0->semantic-kernel==0.5.1.dev0) (0.7.1)\n",
      "Requirement already satisfied: parse in ./openvino_env/lib/python3.10/site-packages (from openapi_core<0.19.0,>=0.18.0->semantic-kernel==0.5.1.dev0) (1.20.1)\n",
      "Requirement already satisfied: werkzeug in ./openvino_env/lib/python3.10/site-packages (from openapi_core<0.19.0,>=0.18.0->semantic-kernel==0.5.1.dev0) (3.0.1)\n",
      "Requirement already satisfied: chardet>=3.0 in ./openvino_env/lib/python3.10/site-packages (from prance<24.0.0.0,>=23.6.21.0->semantic-kernel==0.5.1.dev0) (5.2.0)\n",
      "Requirement already satisfied: ruamel.yaml>=0.17.10 in ./openvino_env/lib/python3.10/site-packages (from prance<24.0.0.0,>=23.6.21.0->semantic-kernel==0.5.1.dev0) (0.18.6)\n",
      "Requirement already satisfied: requests>=2.25 in ./openvino_env/lib/python3.10/site-packages (from prance<24.0.0.0,>=23.6.21.0->semantic-kernel==0.5.1.dev0) (2.31.0)\n",
      "Requirement already satisfied: six~=1.15 in ./openvino_env/lib/python3.10/site-packages (from prance<24.0.0.0,>=23.6.21.0->semantic-kernel==0.5.1.dev0) (1.16.0)\n",
      "Requirement already satisfied: packaging>=21.3 in ./openvino_env/lib/python3.10/site-packages (from prance<24.0.0.0,>=23.6.21.0->semantic-kernel==0.5.1.dev0) (23.2)\n",
      "Requirement already satisfied: annotated-types>=0.4.0 in ./openvino_env/lib/python3.10/site-packages (from pydantic>2->semantic-kernel==0.5.1.dev0) (0.6.0)\n",
      "Requirement already satisfied: pydantic-core==2.16.2 in ./openvino_env/lib/python3.10/site-packages (from pydantic>2->semantic-kernel==0.5.1.dev0) (2.16.2)\n",
      "Requirement already satisfied: idna>=2.8 in ./openvino_env/lib/python3.10/site-packages (from anyio<5,>=3.5.0->openai>=1.0->semantic-kernel==0.5.1.dev0) (3.6)\n",
      "Requirement already satisfied: exceptiongroup>=1.0.2 in ./openvino_env/lib/python3.10/site-packages (from anyio<5,>=3.5.0->openai>=1.0->semantic-kernel==0.5.1.dev0) (1.2.0)\n",
      "Requirement already satisfied: certifi in ./openvino_env/lib/python3.10/site-packages (from httpx<1,>=0.23.0->openai>=1.0->semantic-kernel==0.5.1.dev0) (2024.2.2)\n",
      "Requirement already satisfied: httpcore==1.* in ./openvino_env/lib/python3.10/site-packages (from httpx<1,>=0.23.0->openai>=1.0->semantic-kernel==0.5.1.dev0) (1.0.3)\n",
      "Requirement already satisfied: h11<0.15,>=0.13 in ./openvino_env/lib/python3.10/site-packages (from httpcore==1.*->httpx<1,>=0.23.0->openai>=1.0->semantic-kernel==0.5.1.dev0) (0.14.0)\n",
      "Requirement already satisfied: jsonschema-specifications>=2023.03.6 in ./openvino_env/lib/python3.10/site-packages (from jsonschema<5.0.0,>=4.18.0->openapi_core<0.19.0,>=0.18.0->semantic-kernel==0.5.1.dev0) (2023.7.1)\n",
      "Requirement already satisfied: referencing>=0.28.4 in ./openvino_env/lib/python3.10/site-packages (from jsonschema<5.0.0,>=4.18.0->openapi_core<0.19.0,>=0.18.0->semantic-kernel==0.5.1.dev0) (0.30.2)\n",
      "Requirement already satisfied: rpds-py>=0.7.1 in ./openvino_env/lib/python3.10/site-packages (from jsonschema<5.0.0,>=4.18.0->openapi_core<0.19.0,>=0.18.0->semantic-kernel==0.5.1.dev0) (0.18.0)\n",
      "Requirement already satisfied: PyYAML>=5.1 in ./openvino_env/lib/python3.10/site-packages (from jsonschema-spec<0.3.0,>=0.2.3->openapi_core<0.19.0,>=0.18.0->semantic-kernel==0.5.1.dev0) (6.0.1)\n",
      "Requirement already satisfied: pathable<0.5.0,>=0.4.1 in ./openvino_env/lib/python3.10/site-packages (from jsonschema-spec<0.3.0,>=0.2.3->openapi_core<0.19.0,>=0.18.0->semantic-kernel==0.5.1.dev0) (0.4.3)\n",
      "Requirement already satisfied: rfc3339-validator in ./openvino_env/lib/python3.10/site-packages (from openapi-schema-validator<0.7.0,>=0.6.0->openapi_core<0.19.0,>=0.18.0->semantic-kernel==0.5.1.dev0) (0.1.4)\n",
      "Requirement already satisfied: jsonschema-path<0.4.0,>=0.3.1 in ./openvino_env/lib/python3.10/site-packages (from openapi-spec-validator<0.8.0,>=0.7.1->openapi_core<0.19.0,>=0.18.0->semantic-kernel==0.5.1.dev0) (0.3.2)\n",
      "Requirement already satisfied: lazy-object-proxy<2.0.0,>=1.7.1 in ./openvino_env/lib/python3.10/site-packages (from openapi-spec-validator<0.8.0,>=0.7.1->openapi_core<0.19.0,>=0.18.0->semantic-kernel==0.5.1.dev0) (1.10.0)\n",
      "Requirement already satisfied: dnspython<3.0.0,>=1.16.0 in ./openvino_env/lib/python3.10/site-packages (from pymongo<5,>=4.5->motor<4.0.0,>=3.3.1->semantic-kernel==0.5.1.dev0) (2.6.1)\n",
      "Requirement already satisfied: charset-normalizer<4,>=2 in ./openvino_env/lib/python3.10/site-packages (from requests>=2.25->prance<24.0.0.0,>=23.6.21.0->semantic-kernel==0.5.1.dev0) (3.3.2)\n",
      "Requirement already satisfied: urllib3<3,>=1.21.1 in ./openvino_env/lib/python3.10/site-packages (from requests>=2.25->prance<24.0.0.0,>=23.6.21.0->semantic-kernel==0.5.1.dev0) (2.2.1)\n",
      "Requirement already satisfied: ruamel.yaml.clib>=0.2.7 in ./openvino_env/lib/python3.10/site-packages (from ruamel.yaml>=0.17.10->prance<24.0.0.0,>=23.6.21.0->semantic-kernel==0.5.1.dev0) (0.2.8)\n",
      "Requirement already satisfied: MarkupSafe>=2.1.1 in ./openvino_env/lib/python3.10/site-packages (from werkzeug->openapi_core<0.19.0,>=0.18.0->semantic-kernel==0.5.1.dev0) (2.1.5)\n",
      "Requirement already satisfied: sentence-transformers==2.3.1 in ./openvino_env/lib/python3.10/site-packages (2.3.1)\n",
      "Requirement already satisfied: transformers<5.0.0,>=4.32.0 in ./openvino_env/lib/python3.10/site-packages (from sentence-transformers==2.3.1) (4.38.0.dev0)\n",
      "Requirement already satisfied: tqdm in ./openvino_env/lib/python3.10/site-packages (from sentence-transformers==2.3.1) (4.66.2)\n",
      "Requirement already satisfied: torch>=1.11.0 in ./openvino_env/lib/python3.10/site-packages (from sentence-transformers==2.3.1) (2.2.0+cpu)\n",
      "Requirement already satisfied: numpy in ./openvino_env/lib/python3.10/site-packages (from sentence-transformers==2.3.1) (1.26.4)\n",
      "Requirement already satisfied: scikit-learn in ./openvino_env/lib/python3.10/site-packages (from sentence-transformers==2.3.1) (1.4.1.post1)\n",
      "Requirement already satisfied: scipy in ./openvino_env/lib/python3.10/site-packages (from sentence-transformers==2.3.1) (1.12.0)\n",
      "Requirement already satisfied: nltk in ./openvino_env/lib/python3.10/site-packages (from sentence-transformers==2.3.1) (3.8.1)\n",
      "Requirement already satisfied: sentencepiece in ./openvino_env/lib/python3.10/site-packages (from sentence-transformers==2.3.1) (0.1.99)\n",
      "Requirement already satisfied: huggingface-hub>=0.15.1 in ./openvino_env/lib/python3.10/site-packages (from sentence-transformers==2.3.1) (0.20.3)\n",
      "Requirement already satisfied: Pillow in ./openvino_env/lib/python3.10/site-packages (from sentence-transformers==2.3.1) (10.2.0)\n",
      "Requirement already satisfied: filelock in ./openvino_env/lib/python3.10/site-packages (from huggingface-hub>=0.15.1->sentence-transformers==2.3.1) (3.13.1)\n",
      "Requirement already satisfied: fsspec>=2023.5.0 in ./openvino_env/lib/python3.10/site-packages (from huggingface-hub>=0.15.1->sentence-transformers==2.3.1) (2023.10.0)\n",
      "Requirement already satisfied: requests in ./openvino_env/lib/python3.10/site-packages (from huggingface-hub>=0.15.1->sentence-transformers==2.3.1) (2.31.0)\n",
      "Requirement already satisfied: pyyaml>=5.1 in ./openvino_env/lib/python3.10/site-packages (from huggingface-hub>=0.15.1->sentence-transformers==2.3.1) (6.0.1)\n",
      "Requirement already satisfied: typing-extensions>=3.7.4.3 in ./openvino_env/lib/python3.10/site-packages (from huggingface-hub>=0.15.1->sentence-transformers==2.3.1) (4.9.0)\n",
      "Requirement already satisfied: packaging>=20.9 in ./openvino_env/lib/python3.10/site-packages (from huggingface-hub>=0.15.1->sentence-transformers==2.3.1) (23.2)\n",
      "Requirement already satisfied: sympy in ./openvino_env/lib/python3.10/site-packages (from torch>=1.11.0->sentence-transformers==2.3.1) (1.12)\n",
      "Requirement already satisfied: networkx in ./openvino_env/lib/python3.10/site-packages (from torch>=1.11.0->sentence-transformers==2.3.1) (3.2.1)\n",
      "Requirement already satisfied: jinja2 in ./openvino_env/lib/python3.10/site-packages (from torch>=1.11.0->sentence-transformers==2.3.1) (3.1.3)\n",
      "Requirement already satisfied: regex!=2019.12.17 in ./openvino_env/lib/python3.10/site-packages (from transformers<5.0.0,>=4.32.0->sentence-transformers==2.3.1) (2023.12.25)\n",
      "Requirement already satisfied: tokenizers<0.19,>=0.14 in ./openvino_env/lib/python3.10/site-packages (from transformers<5.0.0,>=4.32.0->sentence-transformers==2.3.1) (0.15.2)\n",
      "Requirement already satisfied: safetensors>=0.4.1 in ./openvino_env/lib/python3.10/site-packages (from transformers<5.0.0,>=4.32.0->sentence-transformers==2.3.1) (0.4.2)\n",
      "Requirement already satisfied: click in ./openvino_env/lib/python3.10/site-packages (from nltk->sentence-transformers==2.3.1) (8.1.7)\n",
      "Requirement already satisfied: joblib in ./openvino_env/lib/python3.10/site-packages (from nltk->sentence-transformers==2.3.1) (1.3.2)\n",
      "Requirement already satisfied: threadpoolctl>=2.0.0 in ./openvino_env/lib/python3.10/site-packages (from scikit-learn->sentence-transformers==2.3.1) (3.3.0)\n",
      "Requirement already satisfied: MarkupSafe>=2.0 in ./openvino_env/lib/python3.10/site-packages (from jinja2->torch>=1.11.0->sentence-transformers==2.3.1) (2.1.5)\n",
      "Requirement already satisfied: charset-normalizer<4,>=2 in ./openvino_env/lib/python3.10/site-packages (from requests->huggingface-hub>=0.15.1->sentence-transformers==2.3.1) (3.3.2)\n",
      "Requirement already satisfied: idna<4,>=2.5 in ./openvino_env/lib/python3.10/site-packages (from requests->huggingface-hub>=0.15.1->sentence-transformers==2.3.1) (3.6)\n",
      "Requirement already satisfied: urllib3<3,>=1.21.1 in ./openvino_env/lib/python3.10/site-packages (from requests->huggingface-hub>=0.15.1->sentence-transformers==2.3.1) (2.2.1)\n",
      "Requirement already satisfied: certifi>=2017.4.17 in ./openvino_env/lib/python3.10/site-packages (from requests->huggingface-hub>=0.15.1->sentence-transformers==2.3.1) (2024.2.2)\n",
      "Requirement already satisfied: mpmath>=0.19 in ./openvino_env/lib/python3.10/site-packages (from sympy->torch>=1.11.0->sentence-transformers==2.3.1) (1.3.0)\n"
     ]
    }
   ],
   "source": [
    "!python -m pip install semantic-kernel==0.5.1.dev0\n",
    "!python -m pip install sentence-transformers==2.3.1"
   ]
  },
  {
   "cell_type": "code",
   "execution_count": 1,
   "id": "508ad44f",
   "metadata": {},
   "outputs": [],
   "source": [
    "import semantic_kernel as sk\n",
    "from ov_pipeline.ov_text_completion import OpenVINOTextCompletion\n",
    "from ov_pipeline.ov_text_embedding import OpenVINOTextEmbedding"
   ]
  },
  {
   "attachments": {},
   "cell_type": "markdown",
   "id": "d8ddffc1",
   "metadata": {},
   "source": [
    "First, we will create a kernel and add both text completion and embedding services. \n",
    "\n",
    "For text completion, we are choosing GPT2. This is a text-generation model. (Note: text-generation will repeat the input in the output, text2text-generation will not.)\n",
    "For embeddings, we are using sentence-transformers/all-MiniLM-L6-v2. Vectors generated for this model are of length 384 (compared to a length of 1536 from OpenAI ADA).\n",
    "\n",
    "The following step may take a few minutes when run for the first time as the models will be downloaded to your local machine."
   ]
  },
  {
   "cell_type": "code",
   "execution_count": 15,
   "id": "8f8dcbc6",
   "metadata": {},
   "outputs": [
    {
     "name": "stderr",
     "output_type": "stream",
     "text": [
      "Compiling the model to CPU ...\n",
      "device must be of type <class 'str'> but got <class 'torch.device'> instead\n"
     ]
    },
    {
     "data": {
      "text/plain": [
       "KernelPlugin(name='openvino', description=None, functions={'recall': KernelFunction(plugin_name='openvino', description='Recall a fact from the long term memory', name='recall', is_semantic=False, stream_function=<bound method TextMemoryPlugin.recall of TextMemoryPlugin()>, parameters=[ParameterView(name='input', description='The information to retrieve', default_value='', type_='string', required=False), ParameterView(name='limit', description='The maximum number of relevant memories to recall.', default_value='1', type_='string', required=False), ParameterView(name='relevance', description='The relevance score, from 0.0 to 1.0; 1.0 means perfect match', default_value='0.75', type_='string', required=False), ParameterView(name='collection', description='The collection to search for information', default_value='generic', type_='string', required=False)], delegate_type=<DelegateTypes.InStringAndContextOutTaskString: 13>, function=<bound method TextMemoryPlugin.recall of TextMemoryPlugin()>, plugins=KernelPluginCollection(plugins={'openvino': KernelPlugin(name='openvino', description=None, functions={...})}), ai_service=None, prompt_execution_settings=PromptExecutionSettings(service_id=None, extension_data={}), chat_prompt_template=None), 'save': KernelFunction(plugin_name='openvino', description='Save information to semantic memory', name='save', is_semantic=False, stream_function=<bound method TextMemoryPlugin.save of TextMemoryPlugin()>, parameters=[ParameterView(name='input', description='The information to save', default_value='', type_='string', required=False), ParameterView(name='key', description='The unique key to associate with the information', default_value='', type_='string', required=False), ParameterView(name='collection', description='The collection to save the information', default_value='generic', type_='string', required=False)], delegate_type=<DelegateTypes.InStringAndContextOutTask: 17>, function=<bound method TextMemoryPlugin.save of TextMemoryPlugin()>, plugins=KernelPluginCollection(plugins={'openvino': KernelPlugin(name='openvino', description=None, functions={...})}), ai_service=None, prompt_execution_settings=PromptExecutionSettings(service_id=None, extension_data={}), chat_prompt_template=None)})"
      ]
     },
     "execution_count": 15,
     "metadata": {},
     "output_type": "execute_result"
    }
   ],
   "source": [
    "kernel = sk.Kernel()\n",
    "ov_config = {\"PERFORMANCE_HINT\": \"LATENCY\",\n",
    "             \"NUM_STREAMS\": \"1\", \"CACHE_DIR\": \"\"}\n",
    "# Configure LLM service\n",
    "kernel.add_text_completion_service(\n",
    "    service_id=\"gpt2\",\n",
    "    service=OpenVINOTextCompletion(ai_model_id=\"./llm_model\", task=\"text-generation\", model_kwargs={\n",
    "                                   \"device\": \"CPU\", \"ov_config\": ov_config}, pipeline_kwargs={\"max_new_tokens\": 64})\n",
    ")\n",
    "kernel.add_text_embedding_generation_service(\n",
    "    service_id=\"sentence-transformers/all-MiniLM-L6-v2\",\n",
    "    service=OpenVINOTextEmbedding(ai_model_id=\"./embedding_model\"),\n",
    ")\n",
    "kernel.register_memory_store(memory_store=sk.memory.VolatileMemoryStore())\n",
    "kernel.import_plugin(sk.core_plugins.TextMemoryPlugin(), \"openvino\")"
   ]
  },
  {
   "attachments": {},
   "cell_type": "markdown",
   "id": "2a7e7ca4",
   "metadata": {},
   "source": [
    "### Add Memories and Define a skill to use them\n",
    "\n",
    "Most models available on huggingface.co are not as powerful as OpenAI GPT-3+. Your skills will likely need to be simpler to accommodate this."
   ]
  },
  {
   "cell_type": "code",
   "execution_count": 16,
   "id": "d096504c",
   "metadata": {},
   "outputs": [],
   "source": [
    "await kernel.memory.save_information(collection=\"animal-facts\", id=\"info1\", text=\"Sharks are fish.\")\n",
    "await kernel.memory.save_information(collection=\"animal-facts\", id=\"info2\", text=\"Whales are mammals.\")\n",
    "await kernel.memory.save_information(collection=\"animal-facts\", id=\"info3\", text=\"Penguins are birds.\")\n",
    "await kernel.memory.save_information(collection=\"animal-facts\", id=\"info4\", text=\"Dolphins are mammals.\")\n",
    "await kernel.memory.save_information(collection=\"animal-facts\", id=\"info5\", text=\"Flies are insects.\")\n",
    "\n",
    "# Define semantic function using SK prompt template language\n",
    "my_prompt = \"\"\"I know these animal facts: {{recall $query1}} {{recall $query2}} {{recall $query3}} and \"\"\"\n",
    "\n",
    "# Create the semantic function\n",
    "my_function = kernel.create_semantic_function(prompt_template=my_prompt, max_tokens=45, temperature=0.5, top_p=0.5)"
   ]
  },
  {
   "attachments": {},
   "cell_type": "markdown",
   "id": "2calf857",
   "metadata": {},
   "source": [
    "Let's now see what the completion looks like! Remember, \"gpt2\" is nowhere near as large as ChatGPT, so expect a much simpler answer."
   ]
  },
  {
   "cell_type": "code",
   "execution_count": 18,
   "id": "628c843e",
   "metadata": {},
   "outputs": [
    {
     "name": "stderr",
     "output_type": "stream",
     "text": [
      "/home/ethan/intel/semantic-kernel.openvino/openvino_env/lib/python3.10/site-packages/transformers/generation/configuration_utils.py:407: UserWarning: `do_sample` is set to `False`. However, `temperature` is set to `0.5` -- this flag is only used in sample-based generation modes. You should set `do_sample=True` or unset `temperature`. This was detected when initializing the generation config instance, which means the corresponding file may hold incorrect parameterization and should be fixed.\n",
      "  warnings.warn(\n",
      "/home/ethan/intel/semantic-kernel.openvino/openvino_env/lib/python3.10/site-packages/transformers/generation/configuration_utils.py:412: UserWarning: `do_sample` is set to `False`. However, `top_p` is set to `0.5` -- this flag is only used in sample-based generation modes. You should set `do_sample=True` or unset `top_p`. This was detected when initializing the generation config instance, which means the corresponding file may hold incorrect parameterization and should be fixed.\n",
      "  warnings.warn(\n"
     ]
    },
    {
     "name": "stdout",
     "output_type": "stream",
     "text": [
      "gpt2 completed prompt with: 'I know these animal facts: [\"Dolphins are mammals.\"] [\"Flies are insects.\"] [\"Penguins are birds.\"] and  \"Horses are mammals.\"\n",
      "The following is a list of the most common and most common species of animals in the world.\n",
      "1. The \"Dolphin\"\n",
      "The dolphin is a large, round, black, dolphin-like creature. It is a large, round, black, dolphin-like creature'\n"
     ]
    }
   ],
   "source": [
    "context = kernel.create_new_context()\n",
    "context[sk.core_plugins.TextMemoryPlugin.COLLECTION_PARAM] = \"animal-facts\"\n",
    "context[sk.core_plugins.TextMemoryPlugin.RELEVANCE_PARAM] = \"0.3\"\n",
    "\n",
    "context[\"query1\"] = \"animal that swims\"\n",
    "context[\"query2\"] = \"animal that flies\"\n",
    "context[\"query3\"] = \"penguins are?\"\n",
    "output = await kernel.run(my_function, input_vars=context.variables)\n",
    "\n",
    "output = str(output).strip()\n",
    "\n",
    "query_result1 = await kernel.memory.search(\n",
    "    collection=\"animal-facts\", query=context[\"query1\"], limit=1, min_relevance_score=0.3\n",
    ")\n",
    "query_result2 = await kernel.memory.search(\n",
    "    collection=\"animal-facts\", query=context[\"query2\"], limit=1, min_relevance_score=0.3\n",
    ")\n",
    "query_result3 = await kernel.memory.search(\n",
    "    collection=\"animal-facts\", query=context[\"query3\"], limit=1, min_relevance_score=0.3\n",
    ")\n",
    "\n",
    "print(f\"gpt2 completed prompt with: '{output}'\")"
   ]
  },
  {
   "cell_type": "code",
   "execution_count": null,
   "id": "6c376631-3568-437c-886c-f8a8d6409bcf",
   "metadata": {},
   "outputs": [],
   "source": []
  }
 ],
 "metadata": {
  "kernelspec": {
   "display_name": "Python 3 (ipykernel)",
   "language": "python",
   "name": "python3"
  },
  "language_info": {
   "codemirror_mode": {
    "name": "ipython",
    "version": 3
   },
   "file_extension": ".py",
   "mimetype": "text/x-python",
   "name": "python",
   "nbconvert_exporter": "python",
   "pygments_lexer": "ipython3",
   "version": "3.10.12"
  }
 },
 "nbformat": 4,
 "nbformat_minor": 5
}
